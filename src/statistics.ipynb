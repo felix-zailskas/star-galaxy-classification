{
 "cells": [
  {
   "cell_type": "code",
   "execution_count": 19,
   "metadata": {},
   "outputs": [],
   "source": [
    "import scipy\n",
    "import numpy as np\n",
    "from matplotlib import pyplot as plt"
   ]
  },
  {
   "cell_type": "code",
   "execution_count": 23,
   "metadata": {},
   "outputs": [],
   "source": [
    "train_files = [\n",
    "    \"001043-5-0025\",\n",
    "    \"002188-2-0037\",\n",
    "    \"005405-6-0099\",\n",
    "    \"001992-1-0087\",\n",
    "    \"003184-2-0169\",\n",
    "    \"004510-4-0030\",\n",
    "    \"008115-2-0181\",\n",
    "    \"002029-6-0222\",\n",
    "    \"001035-6-0017\",\n",
    "]\n",
    "val_files = [\"003918-3-0213\", \"007264-3-0111\"]\n",
    "test_files = [\"008162-6-0080\"]\n",
    "\n",
    "train_images, train_stars, train_galaxies = [], [], []\n",
    "for file_name in train_files:\n",
    "    curr_data = scipy.io.loadmat(f\"../data/processed/{file_name}.mat\")\n",
    "    train_images.append(curr_data[\"image\"])\n",
    "    train_stars.extend(curr_data[\"stars\"])\n",
    "    train_galaxies.extend(curr_data[\"galaxies\"])\n",
    "    \n",
    "val_images, val_stars, val_galaxies = [], [], []\n",
    "for file_name in val_files:\n",
    "    curr_data = scipy.io.loadmat(f\"../data/processed/{file_name}.mat\")\n",
    "    val_images.append(curr_data[\"image\"])\n",
    "    val_stars.extend(curr_data[\"stars\"])\n",
    "    val_galaxies.extend(curr_data[\"galaxies\"])\n",
    "    \n",
    "test_images, test_stars, test_galaxies = [], [], []\n",
    "for file_name in test_files:\n",
    "    curr_data = scipy.io.loadmat(f\"../data/processed/{file_name}.mat\")\n",
    "    test_images.append(curr_data[\"image\"])\n",
    "    test_stars.extend(curr_data[\"stars\"])\n",
    "    test_galaxies.extend(curr_data[\"galaxies\"])\n",
    "\n",
    "all_stars = train_stars + val_stars + test_stars\n",
    "all_gals = train_galaxies + val_galaxies + test_galaxies"
   ]
  },
  {
   "cell_type": "code",
   "execution_count": 24,
   "metadata": {},
   "outputs": [
    {
     "name": "stdout",
     "output_type": "stream",
     "text": [
      "\n",
      "    #Stars full dataset: 4419\n",
      "    #Galaxies full dataset: 3377\n",
      "    #Stars train dataset: 2994\n",
      "    #Galaxies train dataset: 2371\n",
      "    #Stars val dataset: 518\n",
      "    #Galaxies val dataset: 701\n",
      "    #Stars test dataset: 907\n",
      "    #Galaxies test dataset: 305\n",
      "\n"
     ]
    }
   ],
   "source": [
    "print(f\"\"\"\n",
    "    #Stars full dataset: {len(all_stars)}\n",
    "    #Galaxies full dataset: {len(all_gals)}\n",
    "    #Stars train dataset: {len(train_stars)}\n",
    "    #Galaxies train dataset: {len(train_galaxies)}\n",
    "    #Stars val dataset: {len(val_stars)}\n",
    "    #Galaxies val dataset: {len(val_galaxies)}\n",
    "    #Stars test dataset: {len(test_stars)}\n",
    "    #Galaxies test dataset: {len(test_galaxies)}\n",
    "\"\"\")"
   ]
  },
  {
   "cell_type": "code",
   "execution_count": 26,
   "metadata": {},
   "outputs": [
    {
     "data": {
      "text/plain": [
       "(4419, 2)"
      ]
     },
     "execution_count": 26,
     "metadata": {},
     "output_type": "execute_result"
    }
   ],
   "source": [
    "np.array(all_stars).shape"
   ]
  },
  {
   "cell_type": "code",
   "execution_count": 20,
   "metadata": {},
   "outputs": [
    {
     "ename": "TypeError",
     "evalue": "list indices must be integers or slices, not tuple",
     "output_type": "error",
     "traceback": [
      "\u001b[0;31m---------------------------------------------------------------------------\u001b[0m",
      "\u001b[0;31mTypeError\u001b[0m                                 Traceback (most recent call last)",
      "Cell \u001b[0;32mIn[20], line 7\u001b[0m\n\u001b[1;32m      3\u001b[0m stars \u001b[39m=\u001b[39m all_stars\n\u001b[1;32m      4\u001b[0m galaxies \u001b[39m=\u001b[39m all_gals\n\u001b[1;32m      6\u001b[0m ax[\u001b[39m0\u001b[39m, \u001b[39m0\u001b[39m]\u001b[39m.\u001b[39mhist(\n\u001b[0;32m----> 7\u001b[0m     stars[:, \u001b[39m1\u001b[39;49m], bins\u001b[39m=\u001b[39m\u001b[39m50\u001b[39m, color\u001b[39m=\u001b[39m\u001b[39m\"\u001b[39m\u001b[39mgreen\u001b[39m\u001b[39m\"\u001b[39m\n\u001b[1;32m      8\u001b[0m )  \u001b[39m# Adjust the number of bins as needed\u001b[39;00m\n\u001b[1;32m      9\u001b[0m ax[\u001b[39m0\u001b[39m, \u001b[39m0\u001b[39m]\u001b[39m.\u001b[39mset_xlabel(\u001b[39m\"\u001b[39m\u001b[39mX-axis (column coordinates)\u001b[39m\u001b[39m\"\u001b[39m)\n\u001b[1;32m     10\u001b[0m ax[\u001b[39m0\u001b[39m, \u001b[39m0\u001b[39m]\u001b[39m.\u001b[39mset_ylabel(\u001b[39m\"\u001b[39m\u001b[39mFrequency\u001b[39m\u001b[39m\"\u001b[39m)\n",
      "\u001b[0;31mTypeError\u001b[0m: list indices must be integers or slices, not tuple"
     ]
    },
    {
     "data": {
      "image/png": "[encoded data removed]",
      "text/plain": [
       "<Figure size 1000x1000 with 4 Axes>"
      ]
     },
     "metadata": {},
     "output_type": "display_data"
    }
   ],
   "source": [
    "fig, ax = plt.subplots(2, 2, figsize=(10, 10))\n",
    "\n",
    "stars = np.array(all_stars)\n",
    "galaxies = np.array(all_gals)\n",
    "\n",
    "ax[0, 0].hist(\n",
    "    stars[:, 1], bins=50, color=\"green\"\n",
    ")  # Adjust the number of bins as needed\n",
    "ax[0, 0].set_xlabel(\"X-axis (column coordinates)\")\n",
    "ax[0, 0].set_ylabel(\"Frequency\")\n",
    "ax[0, 0].title.set_text(\"Distribution of stars per image area on X-axis\")\n",
    "ax[0, 0].set_xlim(0, 1474)\n",
    "\n",
    "ax[0, 1].hist(\n",
    "    galaxies[:, 1], bins=50, color=\"blue\"\n",
    ")  # Adjust the number of bins as needed\n",
    "ax[0, 1].set_xlabel(\"X-axis (column coordinates)\")\n",
    "ax[0, 1].set_ylabel(\"Frequency\")\n",
    "ax[0, 1].title.set_text(\"Distribution of galaxies per image area on X-axis\")\n",
    "ax[0, 1].set_xlim(0, 1474)\n",
    "\n",
    "ax[1, 0].hist(\n",
    "    stars[:, 0], bins=50, color=\"green\"\n",
    ")  # Adjust the number of bins as needed\n",
    "ax[1, 0].set_xlabel(\"Y-axis (column coordinates)\")\n",
    "ax[1, 0].set_ylabel(\"Frequency\")\n",
    "ax[1, 0].title.set_text(\"Distribution of stars per image area on Y-axis\")\n",
    "ax[1, 0].set_xlim(0, 2041)\n",
    "\n",
    "ax[1, 1].hist(\n",
    "    galaxies[:, 0], bins=50, color=\"blue\"\n",
    ")  # Adjust the number of bins as needed\n",
    "ax[1, 1].set_xlabel(\"Y-axis (column coordinates)\")\n",
    "ax[1, 1].set_ylabel(\"Frequency\")\n",
    "ax[1, 1].title.set_text(\"Distribution of galaxies per image area on Y-axis\")\n",
    "ax[1, 1].set_xlim(0, 2041)\n",
    "\n",
    "\n",
    "plt.show()"
   ]
  }
 ],
 "metadata": {
  "kernelspec": {
   "display_name": "star-galaxy-classification-qW2-rtF0",
   "language": "python",
   "name": "python3"
  },
  "language_info": {
   "codemirror_mode": {
    "name": "ipython",
    "version": 3
   },
   "file_extension": ".py",
   "mimetype": "text/x-python",
   "name": "python",
   "nbconvert_exporter": "python",
   "pygments_lexer": "ipython3",
   "version": "3.10.9"
  },
  "orig_nbformat": 4
 },
 "nbformat": 4,
 "nbformat_minor": 2
}
