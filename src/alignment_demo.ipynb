{
 "cells": [
  {
   "cell_type": "code",
   "execution_count": 30,
   "metadata": {
    "ExecuteTime": {
     "end_time": "2023-06-20T09:05:29.405Z",
     "start_time": "2023-06-20T09:05:29.399272Z"
    }
   },
   "outputs": [],
   "source": [
    "import numpy as np\n",
    "from matplotlib import pyplot as plt\n",
    "from alignment import align_channels_stars_galaxies\n",
    "from astropy.visualization import (MinMaxInterval, SqrtStretch, ImageNormalize)"
   ]
  },
  {
   "cell_type": "code",
   "execution_count": 31,
   "metadata": {
    "ExecuteTime": {
     "end_time": "2023-06-20T09:05:29.972455Z",
     "start_time": "2023-06-20T09:05:29.959981Z"
    }
   },
   "outputs": [],
   "source": [
    "# Provide the file paths of the spectral band files\n",
    "file_to_use = \"001006-6-0011\"\n",
    "calib_obj_name = file_to_use.rsplit('-', 1)[0]\n",
    "file_paths = [\n",
    "    f\"../data/{file_to_use}/frame-i-{file_to_use}.fits.bz2\",\n",
    "    f\"../data/{file_to_use}/frame-r-{file_to_use}.fits.bz2\",\n",
    "    f\"../data/{file_to_use}/frame-g-{file_to_use}.fits.bz2\",\n",
    "    f\"../data/{file_to_use}/frame-u-{file_to_use}.fits.bz2\",\n",
    "    f\"../data/{file_to_use}/frame-z-{file_to_use}.fits.bz2\",\n",
    "]\n",
    "star_path = f\"../data/{file_to_use}/calibObj-{calib_obj_name}-star.fits.gz\"\n",
    "galaxy_path = f\"../data/{file_to_use}/calibObj-{calib_obj_name}-gal.fits.gz\""
   ]
  },
  {
   "cell_type": "code",
   "execution_count": 34,
   "metadata": {
    "ExecuteTime": {
     "end_time": "2023-06-20T09:06:08.838570Z",
     "start_time": "2023-06-20T09:06:03.763857Z"
    }
   },
   "outputs": [
    {
     "name": "stdout",
     "output_type": "stream",
     "text": [
      "\n",
      "    Image of size: (1476, 2044, 5)\n",
      "    With total range: [-0.845306396484375,1699.375]\n",
      "    With range (in irg channels): [-0.259765625,229.392578125]\n",
      "    Contains 907 stars and 305 galaxies.\n",
      "\n",
      "[[ 867.18750237   66.12454003]\n",
      " [ 880.12872288   77.14981615]\n",
      " [1785.81968616   72.00747586]\n",
      " ...\n",
      " [ 239.52914244 1444.57916025]\n",
      " [1342.34214369 1451.56045319]\n",
      " [1332.64339564 1473.0880054 ]]\n"
     ]
    }
   ],
   "source": [
    "image, stars, galaxies = align_channels_stars_galaxies(file_paths, star_path, galaxy_path)\n",
    "print(f\"\"\"\n",
    "    Image of size: {image.shape}\n",
    "    With total range: [{image.min()},{image.max()}]\n",
    "    With range (in irg channels): [{image[:,:,:3].min()},{image[:,:,:3].max()}]\n",
    "    Contains {stars.shape[0]} stars and {galaxies.shape[0]} galaxies.\n",
    "\"\"\")"
   ]
  },
  {
   "cell_type": "code",
   "execution_count": 41,
   "metadata": {
    "ExecuteTime": {
     "end_time": "2023-06-20T09:25:00.068618Z",
     "start_time": "2023-06-20T09:24:59.963730Z"
    }
   },
   "outputs": [
    {
     "data": {
      "text/plain": "<Figure size 640x480 with 1 Axes>",
      "image/png": "[encoded data removed]"
     },
     "metadata": {},
     "output_type": "display_data"
    }
   ],
   "source": [
    "# Create interval object\n",
    "interval = MinMaxInterval()\n",
    "vmin, vmax = interval.get_limits(image[:,:,:3])\n",
    "\n",
    "# Create an ImageNormalize object using a SqrtStretch object\n",
    "norm = ImageNormalize(vmin=vmin, vmax=vmax, stretch=SqrtStretch())\n",
    "\n",
    "plt.scatter(stars[:,0], stars[:,1], color=\"green\", s=1, label=\"Stars\")\n",
    "plt.scatter(galaxies[:,0], galaxies[:,1], color=\"red\", s=1, label=\"Galaxies\")\n",
    "plt.imshow(image[:,:,:3], norm=norm)\n",
    "plt.legend()\n",
    "plt.title(f\"Image {file_to_use} as irg image, with stars and galaxies marked\")\n",
    "plt.show()"
   ]
  }
 ],
 "metadata": {
  "kernelspec": {
   "display_name": "star-galaxy-classification-qW2-rtF0",
   "language": "python",
   "name": "python3"
  },
  "language_info": {
   "codemirror_mode": {
    "name": "ipython",
    "version": 3
   },
   "file_extension": ".py",
   "mimetype": "text/x-python",
   "name": "python",
   "nbconvert_exporter": "python",
   "pygments_lexer": "ipython3",
   "version": "3.10.9"
  },
  "orig_nbformat": 4
 },
 "nbformat": 4,
 "nbformat_minor": 2
}
