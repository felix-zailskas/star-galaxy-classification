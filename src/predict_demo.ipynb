{
 "cells": [
  {
   "cell_type": "code",
   "execution_count": 1,
   "metadata": {},
   "outputs": [
    {
     "name": "stderr",
     "output_type": "stream",
     "text": [
      "/Users/parodiniccolo/.local/share/virtualenvs/star-galaxy-classification-ErrbotaM/lib/python3.10/site-packages/torchvision/models/_utils.py:208: UserWarning: The parameter 'pretrained' is deprecated since 0.13 and may be removed in the future, please use 'weights' instead.\n",
      "  warnings.warn(\n",
      "/Users/parodiniccolo/.local/share/virtualenvs/star-galaxy-classification-ErrbotaM/lib/python3.10/site-packages/torchvision/models/_utils.py:223: UserWarning: Arguments other than a weight enum or `None` for 'weights' are deprecated since 0.13 and may be removed in the future. The current behavior is equivalent to passing `weights=ResNet50_Weights.IMAGENET1K_V1`. You can also use `weights=ResNet50_Weights.DEFAULT` to get the most up-to-date weights.\n",
      "  warnings.warn(msg)\n"
     ]
    }
   ],
   "source": [
    "import logging\n",
    "import os\n",
    "import sys\n",
    "\n",
    "import torch\n",
    "import torch.nn as nn\n",
    "import torch.optim as optim\n",
    "from torch.utils.data import DataLoader\n",
    "\n",
    "import wandb\n",
    "from model import UNet, UNetWithGradCAM\n",
    "from utils.data_loading import BuildingsDataset\n",
    "\n",
    "import matplotlib.pyplot as plt\n",
    "import numpy as np"
   ]
  },
  {
   "cell_type": "code",
   "execution_count": 2,
   "metadata": {},
   "outputs": [],
   "source": [
    "# Load and preprocess the test dataset\n",
    "DATA_DIR = \"../data/\"\n",
    "x_test_dir = os.path.join(DATA_DIR, \"test/\")\n",
    "\n",
    "test_dataset = BuildingsDataset(x_test_dir)\n",
    "\n",
    "test_loader = DataLoader(test_dataset, batch_size=1, shuffle=False, num_workers=4)"
   ]
  },
  {
   "cell_type": "code",
   "execution_count": 3,
   "metadata": {},
   "outputs": [],
   "source": [
    "device = torch.device(\"cuda\" if torch.cuda.is_available() else \"cpu\")"
   ]
  },
  {
   "cell_type": "code",
   "execution_count": 4,
   "metadata": {},
   "outputs": [
    {
     "data": {
      "text/plain": [
       "<All keys matched successfully>"
      ]
     },
     "execution_count": 4,
     "metadata": {},
     "output_type": "execute_result"
    }
   ],
   "source": [
    "model = UNetWithGradCAM(UNet(5, 3))\n",
    "model.load_state_dict(torch.load(\"model.pth\"))"
   ]
  },
  {
   "cell_type": "code",
   "execution_count": 6,
   "metadata": {},
   "outputs": [
    {
     "name": "stderr",
     "output_type": "stream",
     "text": [
      "Clipping input data to the valid range for imshow with RGB data ([0..1] for floats or [0..255] for integers).\n"
     ]
    },
    {
     "data": {
      "image/png": "[encoded data removed]",
      "text/plain": [
       "<Figure size 640x480 with 2 Axes>"
      ]
     },
     "metadata": {},
     "output_type": "display_data"
    }
   ],
   "source": [
    "image, gt_mask = test_dataset[28]\n",
    "x_tensor = torch.from_numpy(image).to(device).unsqueeze(0)\n",
    "x_tensor = x_tensor.permute(0, 3, 1, 2).float().to(device)\n",
    "# Predict test image\n",
    "pred_mask = model(x_tensor)\n",
    "tensor_to_detach = pred_mask[0]  # Assuming the tensor you want to detach is the first element of the tuple\n",
    "pred_mask_array = tensor_to_detach.detach().squeeze().cpu().numpy()\n",
    "pred_mask = np.transpose(pred_mask_array,(1,2,0))\n",
    "\n",
    "\n",
    "# Plotting predicted mask\n",
    "plt.subplot(1, 2, 1)\n",
    "plt.imshow(pred_mask)\n",
    "plt.title(\"Predicted Mask\")\n",
    "\n",
    "# Plotting ground truth mask\n",
    "plt.subplot(1, 2, 2)\n",
    "plt.imshow(gt_mask)\n",
    "plt.title(\"Ground Truth Mask\")\n",
    "\n",
    "# Adjusting subplot layout and displaying the plot\n",
    "plt.tight_layout()\n",
    "plt.show()"
   ]
  }
 ],
 "metadata": {
  "kernelspec": {
   "display_name": "star-galaxy-classification-okLKwSn7",
   "language": "python",
   "name": "python3"
  },
  "language_info": {
   "codemirror_mode": {
    "name": "ipython",
    "version": 3
   },
   "file_extension": ".py",
   "mimetype": "text/x-python",
   "name": "python",
   "nbconvert_exporter": "python",
   "pygments_lexer": "ipython3",
   "version": "3.10.11"
  },
  "orig_nbformat": 4
 },
 "nbformat": 4,
 "nbformat_minor": 2
}
