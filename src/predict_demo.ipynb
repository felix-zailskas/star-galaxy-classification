{
 "cells": [
  {
   "cell_type": "code",
   "execution_count": 1,
   "metadata": {},
   "outputs": [],
   "source": [
    "import logging\n",
    "import os\n",
    "import sys\n",
    "\n",
    "import torch\n",
    "import torch.nn as nn\n",
    "import torch.optim as optim\n",
    "from torch.utils.data import DataLoader\n",
    "\n",
    "import wandb\n",
    "from model import UNet, UNetWithGradCAM\n",
    "from utils.data_loading import BuildingsDataset\n",
    "\n",
    "import matplotlib.pyplot as plt\n",
    "import numpy as np"
   ]
  },
  {
   "cell_type": "code",
   "execution_count": 2,
   "metadata": {},
   "outputs": [],
   "source": [
    "# Load and preprocess the test dataset\n",
    "DATA_DIR = \"../data/\"\n",
    "x_test_dir = os.path.join(DATA_DIR, \"test/\")\n",
    "\n",
    "test_dataset = BuildingsDataset(x_test_dir)\n",
    "\n",
    "test_loader = DataLoader(test_dataset, batch_size=1, shuffle=False, num_workers=4)"
   ]
  },
  {
   "cell_type": "code",
   "execution_count": 3,
   "metadata": {},
   "outputs": [],
   "source": [
    "device = torch.device(\"cuda\" if torch.cuda.is_available() else \"cpu\")"
   ]
  },
  {
   "cell_type": "code",
   "execution_count": 4,
   "metadata": {},
   "outputs": [
    {
     "data": {
      "text/plain": [
       "<All keys matched successfully>"
      ]
     },
     "execution_count": 4,
     "metadata": {},
     "output_type": "execute_result"
    }
   ],
   "source": [
    "model = UNetWithGradCAM(UNet(5, 3))\n",
    "model.load_state_dict(torch.load(\"model.pth\"))"
   ]
  },
  {
   "cell_type": "code",
   "execution_count": 53,
   "metadata": {},
   "outputs": [],
   "source": [
    "def convert_output_to_prediction(output_mask: np.ndarray):\n",
    "    new_arr = np.zeros_like(output_mask)\n",
    "    max_indices = np.argmax(output_mask, axis=2)\n",
    "    new_arr[\n",
    "        np.arange(output_mask.shape[0])[:, None],\n",
    "        np.arange(output_mask.shape[1]),\n",
    "        max_indices,\n",
    "    ] = 1\n",
    "    return new_arr"
   ]
  },
  {
   "cell_type": "code",
   "execution_count": 56,
   "metadata": {},
   "outputs": [
    {
     "data": {
      "image/png": "[encoded data removed]",
      "text/plain": [
       "<Figure size 640x480 with 2 Axes>"
      ]
     },
     "metadata": {},
     "output_type": "display_data"
    }
   ],
   "source": [
    "image, gt_mask = test_dataset[238]\n",
    "x_tensor = torch.from_numpy(image).to(device).unsqueeze(0)\n",
    "x_tensor = x_tensor.permute(0, 3, 1, 2).float().to(device)\n",
    "# Predict test image\n",
    "pred_mask = model(x_tensor)\n",
    "tensor_to_detach = pred_mask[\n",
    "    0\n",
    "]  # Assuming the tensor you want to detach is the first element of the tuple\n",
    "pred_mask_array = tensor_to_detach.detach().squeeze().cpu().numpy()\n",
    "pred_mask = np.transpose(pred_mask_array, (1, 2, 0))\n",
    "pred_mask_converted = convert_output_to_prediction(pred_mask)\n",
    "\n",
    "\n",
    "# Plotting predicted mask\n",
    "plt.subplot(1, 2, 1)\n",
    "plt.imshow(pred_mask_converted)\n",
    "plt.title(\"Predicted Mask\")\n",
    "\n",
    "# Plotting ground truth mask\n",
    "plt.subplot(1, 2, 2)\n",
    "plt.imshow(gt_mask)\n",
    "plt.title(\"Ground Truth Mask\")\n",
    "\n",
    "# Adjusting subplot layout and displaying the plot\n",
    "plt.tight_layout()\n",
    "plt.show()"
   ]
  }
 ],
 "metadata": {
  "kernelspec": {
   "display_name": "star-galaxy-classification-okLKwSn7",
   "language": "python",
   "name": "python3"
  },
  "language_info": {
   "codemirror_mode": {
    "name": "ipython",
    "version": 3
   },
   "file_extension": ".py",
   "mimetype": "text/x-python",
   "name": "python",
   "nbconvert_exporter": "python",
   "pygments_lexer": "ipython3",
   "version": "3.10.9"
  },
  "orig_nbformat": 4
 },
 "nbformat": 4,
 "nbformat_minor": 2
}
